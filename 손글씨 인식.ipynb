{
  "nbformat": 4,
  "nbformat_minor": 0,
  "metadata": {
    "colab": {
      "provenance": [],
      "authorship_tag": "ABX9TyO7aqAqq/F13R+JnC7YRpJw",
      "include_colab_link": true
    },
    "kernelspec": {
      "name": "python3",
      "display_name": "Python 3"
    },
    "language_info": {
      "name": "python"
    }
  },
  "cells": [
    {
      "cell_type": "markdown",
      "metadata": {
        "id": "view-in-github",
        "colab_type": "text"
      },
      "source": [
        "<a href=\"https://colab.research.google.com/github/dhkdsns20/AI-Basic/blob/main/%EC%86%90%EA%B8%80%EC%94%A8%20%EC%9D%B8%EC%8B%9D.ipynb\" target=\"_parent\"><img src=\"https://colab.research.google.com/assets/colab-badge.svg\" alt=\"Open In Colab\"/></a>"
      ]
    },
    {
      "cell_type": "markdown",
      "source": [
        "## 1) Solve the Prob. 1 from the attached file."
      ],
      "metadata": {
        "id": "8WLHWSgTQCkp"
      }
    },
    {
      "cell_type": "markdown",
      "source": [
        "###(10 points) 간단한 3 층 신경망에서 W1은 2 × 3, b1은 1 × 3, W2는 3 × 2, b2는 1 × 2, W3 는 2 × 2, b3는 1 × 2 의 크기를 갖는다. 이 신경망을 본인의 nickname의 이름을 갖는 dictionary로 정의하고 6개의 변수의 값은 랜덤 함수를 이용하여 발생시킨다.\n",
        "\n",
        "\n"
      ],
      "metadata": {
        "id": "HUFd5a9QT89l"
      }
    },
    {
      "cell_type": "markdown",
      "source": [
        "### (a) 정의된 dictionary 변수를 pickle의 함수를 이용하여 저장하시오"
      ],
      "metadata": {
        "id": "pAsNRipCUJ6F"
      }
    },
    {
      "cell_type": "code",
      "source": [
        "import numpy as np\n",
        "import pickle\n",
        "\n",
        "# ===============================\n",
        "# 신경망 함수 정의\n",
        "# ===============================\n",
        "\n",
        "def sigmoid(x):\n",
        "    return 1 / (1 + np.exp(-x))\n",
        "\n",
        "def identity_function(x):\n",
        "    return x\n",
        "\n",
        "def forward(network, x):\n",
        "    W1, W2, W3 = network['W1'], network['W2'], network['W3']\n",
        "    b1, b2, b3 = network['b1'], network['b2'], network['b3']\n",
        "\n",
        "    a1 = np.dot(x, W1) + b1\n",
        "    z1 = sigmoid(a1)\n",
        "\n",
        "    a2 = np.dot(z1, W2) + b2\n",
        "    z2 = sigmoid(a2)\n",
        "\n",
        "    a3 = np.dot(z2, W3) + b3\n",
        "    y = identity_function(a3)\n",
        "\n",
        "    return y"
      ],
      "metadata": {
        "id": "pFx8HYteYhX-"
      },
      "execution_count": 13,
      "outputs": []
    },
    {
      "cell_type": "code",
      "source": [
        "\n",
        "\n",
        "# 랜덤으로 파라미터 생성\n",
        "scale = np.sqrt(0.1)\n",
        "\n",
        "W1 = np.random.randn(2, 3) * scale\n",
        "b1 = np.random.randn(1, 3) * scale\n",
        "\n",
        "W2 = np.random.randn(3, 2) * scale\n",
        "b2 = np.random.randn(1, 2) * scale\n",
        "\n",
        "W3 = np.random.randn(2, 2) * scale\n",
        "b3 = np.random.randn(1, 2) * scale\n",
        "\n",
        "# sangwoo dictionary에 저장\n",
        "sangwoo = {                            # 딕셔너리는 key , value 형태\n",
        "    'W1': W1, 'b1': b1,\n",
        "    'W2': W2, 'b2': b2,\n",
        "    'W3': W3, 'b3': b3\n",
        "}\n",
        "\n",
        "# pickle을 이용해 파일로 저장\n",
        "with open('sangwoo.pkl', 'wb') as f:   # 'wb'\n",
        "                                       # 'w'는 쓰기모드\n",
        "                                       # 'b'는 바이너리 모드 (pickle은 이지 데이터이므로 반드시 'b'사용)\n",
        "\n",
        "                                       #  with\n",
        "                                       #  파일을 열고 사용한 뒤 자동으로 닫아줌\n",
        "\n",
        "                                       # as f : 이 파일 객체를 f라는 이름으로 사용\n",
        "    pickle.dump(sangwoo, f)\n",
        "    # pickle.dump() Python객체를 파일에 저장하는 함수.\n",
        "    # sangwoo : 저장할 객체\n",
        "    # f : 파일객체 (sangwoo.pkl)\n",
        "\n"
      ],
      "metadata": {
        "id": "cskFCLURUOQ5"
      },
      "execution_count": 12,
      "outputs": []
    },
    {
      "cell_type": "markdown",
      "source": [
        "### (b) 위의 dictionary 변수를 메모리에서 삭제하고 pickle 함수를 이용하여 다시 불러와 print하시오."
      ],
      "metadata": {
        "id": "9S5JOee5VBma"
      }
    },
    {
      "cell_type": "code",
      "source": [
        "# ===============================\n",
        "# (2) 메모리 삭제 후 다시 불러오기\n",
        "# ===============================\n",
        "\n",
        "\n",
        "import pickle\n",
        "\n",
        "# sangwoo 딕셔너리 메모리에서 삭제\n",
        "del sangwoo                            # del 명령어\n",
        "\n",
        "# pickle 파일에서 다시 불러오기\n",
        "with open('sangwoo.pkl', 'rb') as f:   # r : read모드\n",
        "    sangwoo = pickle.load(f)           # pickle.load() : sangwoo.pkl을 불러옴\n",
        "\n",
        "# 불러온 내용 출력\n",
        "print(\"불러온 sangwoo 딕셔너리:\")      # .items()로 key, value를 반복(iterate)\n",
        "for key, value in sangwoo.items():     # sangwoo가 딕셔너리 형태이므로 key,value\n",
        "    print(f\"{key}:\\n{value}\\n\")\n"
      ],
      "metadata": {
        "colab": {
          "base_uri": "https://localhost:8080/"
        },
        "id": "euApE7wuVG9n",
        "outputId": "533eea94-0aa0-4058-c69d-0282d861a5a0"
      },
      "execution_count": 14,
      "outputs": [
        {
          "output_type": "stream",
          "name": "stdout",
          "text": [
            "불러온 sangwoo 딕셔너리:\n",
            "W1:\n",
            "[[ 0.17681539  0.14262558  0.27966331]\n",
            " [-0.03721515  0.06638266  0.34201209]]\n",
            "\n",
            "b1:\n",
            "[[ 0.36417479 -0.22939614  0.00736361]]\n",
            "\n",
            "W2:\n",
            "[[ 0.57718622  0.3146756 ]\n",
            " [ 0.32993822  0.24286372]\n",
            " [-0.01503647  0.19320682]]\n",
            "\n",
            "b2:\n",
            "[[0.19035105 0.04055933]]\n",
            "\n",
            "W3:\n",
            "[[0.12258136 0.40125189]\n",
            " [0.11879685 0.57447003]]\n",
            "\n",
            "b3:\n",
            "[[0.07386619 0.46115148]]\n",
            "\n"
          ]
        }
      ]
    },
    {
      "cell_type": "code",
      "source": [
        "# ===============================\n",
        "# (3) 입력값을 통한 forward 계산\n",
        "# ===============================\n",
        "\n",
        "x = np.array([1.0, 0.5])  # 입력값 정의\n",
        "y = forward(sangwoo, x)   # forward 함수 실행\n",
        "\n",
        "print(\"신경망 출력값 y:\")\n",
        "print(y)"
      ],
      "metadata": {
        "colab": {
          "base_uri": "https://localhost:8080/"
        },
        "id": "RWnGk0KpZNYG",
        "outputId": "b945f128-15c4-4a30-88ff-df025f5cf357"
      },
      "execution_count": 15,
      "outputs": [
        {
          "output_type": "stream",
          "name": "stdout",
          "text": [
            "신경망 출력값 y:\n",
            "[[0.22911725 1.08376423]]\n"
          ]
        }
      ]
    },
    {
      "cell_type": "markdown",
      "source": [
        "## 2) Make your own handwritten number (본인 학번의 마지막 숫자로 인식시킬 것)\n",
        "\n",
        "and check that the simple Section 3.6 (sample_weight.pkl)  can tell the number of your own.\n",
        "\n",
        "* mnist.pkl 을 4주 강의자료에 업로드했습니다. (mnist data를 인터넷에서 더 이상 제공하지 않을 수 있습니다.)\n",
        "\n",
        "   mnist를 working directory에 다운하여 숙제를 하면 됩니다"
      ],
      "metadata": {
        "id": "zwPaVzPGQFyW"
      }
    },
    {
      "cell_type": "markdown",
      "source": [
        "### 2) Make your own handwritten number"
      ],
      "metadata": {
        "id": "PGiAS0bk3BLy"
      }
    },
    {
      "cell_type": "code",
      "source": [
        "# 학번 : 2020037087\n",
        "\n",
        "from PIL import Image\n",
        "import numpy as np\n",
        "\n",
        "# 이미지 열기 (28x28 흑백으로 resize)\n",
        "img = Image.open('7번(3).png').convert('L').resize((28, 28)) # .convert('L') : 이미지를 흑백으로 변환하라.\n",
        "img_np = np.array(img)\n",
        "\n",
        "# MNIST와 동일하게 흰색 배경이 0, 글자가 큰 값이 되게 반전\n",
        "img_np = 255 - img_np\n",
        "\n",
        "# 1차원으로 펴고 정규화\n",
        "img_np = img_np.flatten() / 255.0\n"
      ],
      "metadata": {
        "id": "dYKWCGpR3I8s"
      },
      "execution_count": 96,
      "outputs": []
    },
    {
      "cell_type": "code",
      "source": [
        "import pickle\n",
        "\n",
        "# 모델 로드\n",
        "with open(\"sample_weight.pkl\", 'rb') as f:\n",
        "    network = pickle.load(f)\n"
      ],
      "metadata": {
        "id": "WZdzt-mL42m4"
      },
      "execution_count": 97,
      "outputs": []
    },
    {
      "cell_type": "code",
      "source": [
        "def predict(network, x):\n",
        "    W1, W2, W3 = network['W1'], network['W2'], network['W3']\n",
        "    b1, b2, b3 = network['b1'], network['b2'], network['b3']\n",
        "\n",
        "    a1 = np.dot(x, W1) + b1\n",
        "    z1 = sigmoid(a1)\n",
        "    a2 = np.dot(z1, W2) + b2\n",
        "    z2 = sigmoid(a2)\n",
        "    a3 = np.dot(z2, W3) + b3\n",
        "    y = softmax(a3)\n",
        "\n",
        "    return y\n"
      ],
      "metadata": {
        "id": "6S78utA842ct"
      },
      "execution_count": 98,
      "outputs": []
    },
    {
      "cell_type": "code",
      "source": [
        "y = predict(network, img_np)\n",
        "print(\"예측 결과:\", np.argmax(y))\n"
      ],
      "metadata": {
        "colab": {
          "base_uri": "https://localhost:8080/"
        },
        "id": "hZyqbiSv5rYr",
        "outputId": "f13bcde9-3ba3-4ae9-90a3-ceda1169c891"
      },
      "execution_count": 99,
      "outputs": [
        {
          "output_type": "stream",
          "name": "stdout",
          "text": [
            "예측 결과: 7\n"
          ]
        }
      ]
    },
    {
      "cell_type": "markdown",
      "source": [
        "### MNIST 데이터셋"
      ],
      "metadata": {
        "id": "6kZOrMpQtzBS"
      }
    },
    {
      "cell_type": "code",
      "source": [
        "# import sys, os\n",
        "# sys.path.append(os.pardir)  # 부모 디렉터리의 파일을 가져올 수 있도록 설정\n",
        "from mnist import load_mnist"
      ],
      "metadata": {
        "id": "Zuc8zdaPizHu"
      },
      "execution_count": 27,
      "outputs": []
    },
    {
      "cell_type": "code",
      "source": [
        "(x_train, t_train), (x_test, t_test) = \\\n",
        "    load_mnist(flatten=True, normalize=False) # 세번째 인수는 원-핫 인코딩\n",
        "                                              # one_hot_label = True : 정답만 1\n",
        "                                              # one_hot_label = False : 정답은 '2', '7' 처럼 숫자 형태\n",
        "\n",
        ""
      ],
      "metadata": {
        "id": "_D9FWStVjEN_"
      },
      "execution_count": 28,
      "outputs": []
    },
    {
      "cell_type": "code",
      "source": [
        "# 각 데이터의 형상 출력\n",
        "print(x_train.shape)   # 훈련 이미지\n",
        "print(t_train.shape)   # 훈련 레이블\n",
        "print(x_test.shape)    # 시험 이미지\n",
        "print(t_test.shape)    # 시험 레이블"
      ],
      "metadata": {
        "colab": {
          "base_uri": "https://localhost:8080/"
        },
        "id": "5pa9ToPqjTim",
        "outputId": "7f1ecbb6-4f19-4da9-a153-7844a6e01f54"
      },
      "execution_count": 29,
      "outputs": [
        {
          "output_type": "stream",
          "name": "stdout",
          "text": [
            "(60000, 784)\n",
            "(60000,)\n",
            "(10000, 784)\n",
            "(10000,)\n"
          ]
        }
      ]
    },
    {
      "cell_type": "code",
      "source": [
        "img = x_train[0]\n",
        "label = t_train[0]\n",
        "print(label)"
      ],
      "metadata": {
        "colab": {
          "base_uri": "https://localhost:8080/"
        },
        "id": "PORbsbt8jZ-t",
        "outputId": "a400423d-9f10-44aa-9428-93288cfeeb21"
      },
      "execution_count": 30,
      "outputs": [
        {
          "output_type": "stream",
          "name": "stdout",
          "text": [
            "5\n"
          ]
        }
      ]
    },
    {
      "cell_type": "code",
      "source": [
        "print(img.shape)          # (784,)\n",
        "img = img.reshape(28,28)  # 원래 이미지의 모양으로 변형\n",
        "print(img.shape)          # (28,28)"
      ],
      "metadata": {
        "colab": {
          "base_uri": "https://localhost:8080/"
        },
        "id": "Q-k36W51pRLn",
        "outputId": "13195457-70b9-4f9d-8fef-3d90649cce54"
      },
      "execution_count": 31,
      "outputs": [
        {
          "output_type": "stream",
          "name": "stdout",
          "text": [
            "(784,)\n",
            "(28, 28)\n"
          ]
        }
      ]
    },
    {
      "cell_type": "code",
      "source": [
        "# 넘파이로 저장된 이미지 데이터 -> PIL용 데이터 객체로 변환 : Image.fromarray()가 수행\n",
        "from PIL import Image\n",
        "\n",
        "def img_show(img):\n",
        "  pil_img = Image.fromarray(np.uint8(img))\n",
        "  pil_img.show()\n",
        "\n",
        "img_show(img)"
      ],
      "metadata": {
        "id": "eVDr2TtQpgFv"
      },
      "execution_count": 47,
      "outputs": []
    },
    {
      "cell_type": "markdown",
      "source": [
        "```python\n",
        "    # colab에서의 코드\n",
        "    import matplotlib.pyplot as plt\n",
        "    import numpy as np\n",
        "\n",
        "    def img_show(img):\n",
        "        if img.ndim == 1:\n",
        "            img = img.reshape(28, 28)  # 1차원인 경우 28x28로 변경\n",
        "        if img.max() <= 1.0:\n",
        "            img = img * 255  # 0~1 범위면 0~255로 변환\n",
        "        img = np.uint8(img)\n",
        "        \n",
        "        plt.imshow(img, cmap='gray')\n",
        "        plt.axis('off')\n",
        "        plt.show()\n",
        "\n",
        "\n",
        "    img = x_train[0]  # 예: MNIST 첫 번째 이미지\n",
        "    img_show(img)\n",
        "```"
      ],
      "metadata": {
        "id": "YOCrQGNprHkE"
      }
    },
    {
      "cell_type": "markdown",
      "source": [
        "### 3.6.2 신경망의 추론처리"
      ],
      "metadata": {
        "id": "-Pd5oq1htq9h"
      }
    },
    {
      "cell_type": "code",
      "source": [
        "import pickle\n",
        "import numpy as np\n",
        "from common.functions import sigmoid, softmax\n",
        "\n",
        "def get_data():\n",
        "    (x_train, t_train), (x_test, t_test) = \\\n",
        "        load_mnist(normalize=True, flatten=True, one_hot_label=False)\n",
        "    return x_test, t_test\n",
        "\n",
        "def init_network():\n",
        "    with open(\"sample_weight.pkl\", \"rb\") as f:\n",
        "        network = pickle.load(f)\n",
        "    return network\n",
        "\n",
        "def predict(network, x):\n",
        "    W1, W2, W3 = network['W1'], network['W2'], network['W3']\n",
        "    b1, b2, b3 = network['b1'], network['b2'], network['b3']\n",
        "\n",
        "    a1 = np.dot(x, W1) + b1\n",
        "    z1 = sigmoid(a1)\n",
        "    a2 = np.dot(z1, W2) + b2\n",
        "    z2 = sigmoid(a2)\n",
        "    a3 = np.dot(z2, W3) + b3\n",
        "    y = softmax(a3)\n",
        "    return y"
      ],
      "metadata": {
        "id": "5FwmT8eKr1CG"
      },
      "execution_count": 51,
      "outputs": []
    },
    {
      "cell_type": "code",
      "source": [
        "x, t = get_data()\n",
        "network = init_network()\n",
        "\n",
        "accuracy_cnt = 0\n",
        "for i in range(len(x)):\n",
        "    y = predict(network, x[i])\n",
        "    p = np.argmax(y)\n",
        "    if p == t[i]:\n",
        "        accuracy_cnt +=1\n",
        "\n",
        "print(\"Accuracy:\" + str(float(accuracy_cnt) / len(x)))"
      ],
      "metadata": {
        "id": "b0kysz7MrD5n"
      },
      "execution_count": null,
      "outputs": []
    },
    {
      "cell_type": "markdown",
      "source": [
        "### 3.6.3 배치 처리"
      ],
      "metadata": {
        "id": "u_JUUGMXt2ZS"
      }
    },
    {
      "cell_type": "code",
      "source": [
        "x, t = get_data()\n",
        "network = init_network()\n",
        "\n",
        "batch_size = 100 # 배치 크기\n",
        "accuracy_cnt = 0\n",
        "\n",
        "for i in range(0, len(x), batch_size):       # len(x) = 10000\n",
        "    x_batch = x[i:i+batch_size]              # i = 0,100,200... / x[0:100],x[100:200],...\n",
        "    y_batch = predict(network, x_batch)\n",
        "    p = np.argmax(y_batch, axis=1)\n",
        "    accuracy_cnt += np.sum(p == t[i:i+batch_size])\n",
        "\n",
        "print(\"Accuracy:\" + str(float(accuracy_cnt) / len(x)))"
      ],
      "metadata": {
        "colab": {
          "base_uri": "https://localhost:8080/"
        },
        "id": "GpaYf0H8t42u",
        "outputId": "3bcf71d8-c555-4eca-d825-1974ac52952b"
      },
      "execution_count": 52,
      "outputs": [
        {
          "output_type": "stream",
          "name": "stdout",
          "text": [
            "Accuracy:0.9352\n"
          ]
        }
      ]
    }
  ]
}